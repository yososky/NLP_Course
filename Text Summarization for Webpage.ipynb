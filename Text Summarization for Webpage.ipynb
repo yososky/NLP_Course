{
 "cells": [
  {
   "cell_type": "markdown",
   "metadata": {},
   "source": [
    "# AIT 590\n",
    "# Mingtao Zhang\n",
    "# Lab_1"
   ]
  },
  {
   "cell_type": "markdown",
   "metadata": {},
   "source": [
    "# Import Libraries"
   ]
  },
  {
   "cell_type": "code",
   "execution_count": 1,
   "metadata": {},
   "outputs": [],
   "source": [
    "import bs4 as bs  # BeautifulSoup\n",
    "import urllib.request\n",
    "import re"
   ]
  },
  {
   "cell_type": "markdown",
   "metadata": {},
   "source": [
    "# 1. Web scraping\n",
    "1 (0.5 points) Use the web scraping technique with BeautifulSoup as shown in class to get the\n",
    "text data from the specified data location on the Wikipedia webpage."
   ]
  },
  {
   "cell_type": "code",
   "execution_count": 2,
   "metadata": {},
   "outputs": [],
   "source": [
    "def _scrape_webpage_fixed(url):\n",
    "    \"\"\"\n",
    "    Use BeautifulSoup to scrape the webpage text contents.\n",
    "    \"\"\"    \n",
    "    scraped_textdata = urllib.request.urlopen(url)\n",
    "    textdata = scraped_textdata.read()\n",
    "    parsed_textdata = bs.BeautifulSoup(textdata,'lxml')\n",
    "    #paragraphs = parsed_textdata.find_all(['p', 'dd','li'])  #dd and li includes some informations, but some unrealted\n",
    "    paragraphs = parsed_textdata.find_all(['p'])\n",
    "    formated_text = \"\"\n",
    "    \n",
    "    for para in paragraphs:\n",
    "        line = para.text.lower() # change to lower case\n",
    "        line = re.sub(r\"[^a-z\\s]\", \"\", line.strip())  # only contains english words\n",
    "        formated_text += line\n",
    "    \n",
    "    return formated_text"
   ]
  },
  {
   "cell_type": "code",
   "execution_count": 3,
   "metadata": {},
   "outputs": [
    {
     "data": {
      "text/plain": [
       "'natural language processing nlp is a subfield of linguistics computer science and artificial intelligence concerned with the interactions between computers and human language in particular how to program computers to process and analyze large amounts of natural language datachallenges in natural language processing frequently involve speech recognition natural language understanding and naturallanguage generationnatural language processing has its roots in the s already in  alan turing published an article titled computing machinery and intelligence which proposed what is now called the turing test as a criterion of intelligence a task that involves the automated interpretation and generation of natural language but at the time not articulated as a problem separate from artificial intelligencethe premise of symbolic nlp is wellsummarized by john searles chinese room experiment given a collection of rules eg a chinese phrasebook with questions and matching answers the computer emulates '"
      ]
     },
     "execution_count": 3,
     "metadata": {},
     "output_type": "execute_result"
    }
   ],
   "source": [
    "text = _scrape_webpage_fixed('https://en.wikipedia.org/wiki/Natural_language_processing')\n",
    "#text\n",
    "text[0:1000]"
   ]
  },
  {
   "cell_type": "markdown",
   "metadata": {},
   "source": [
    "# Edit text\n",
    "## 2 (3.5 points) Process the text data and must include:"
   ]
  },
  {
   "cell_type": "markdown",
   "metadata": {},
   "source": [
    "### 2.1 Tokenize the words"
   ]
  },
  {
   "cell_type": "code",
   "execution_count": 4,
   "metadata": {},
   "outputs": [],
   "source": [
    "import nltk  # import nltk"
   ]
  },
  {
   "cell_type": "code",
   "execution_count": 5,
   "metadata": {},
   "outputs": [
    {
     "name": "stdout",
     "output_type": "stream",
     "text": [
      "1235\n",
      "['natural', 'language', 'processing', 'nlp', 'is', 'a', 'subfield', 'of', 'linguistics', 'computer', 'science', 'and', 'artificial', 'intelligence', 'concerned', 'with', 'the', 'interactions', 'between', 'computers', 'and', 'human', 'language', 'in', 'particular', 'how', 'to', 'program', 'computers', 'to']\n"
     ]
    }
   ],
   "source": [
    "tokenizedText = nltk.word_tokenize(text)\n",
    "print(len(tokenizedText))\n",
    "print(tokenizedText[:30])"
   ]
  },
  {
   "cell_type": "markdown",
   "metadata": {},
   "source": [
    "### 2.2 (1 point) Remove the stop words, punctuation, and digit numbers."
   ]
  },
  {
   "cell_type": "markdown",
   "metadata": {},
   "source": [
    "### Remove numbers and punctuation\n",
    "This process has been done in web scraping part,\n",
    "/*line = re.sub(r\"[^a-z\\s]\", \"\", line.strip())  # only contains english words */\n",
    "\n",
    "only english words are record in the text\n",
    "\n",
    "But the function below has the same function which i used in the future"
   ]
  },
  {
   "cell_type": "code",
   "execution_count": 6,
   "metadata": {},
   "outputs": [],
   "source": [
    "#from string import punctuation\n",
    "#from nltk.corpus import stopwords\n",
    "#stopword = stopwords.words('english')\n",
    "\n",
    "def cleanUpSentense(token_sent):\n",
    "    senttoken = nltk.word_tokenize(token_sent)\n",
    "    leSent = lemmatizeWords(senttoken)  # lemmatize senstnce\n",
    "    noStopwords = [word for word in leSent if word not in stopword]  # remove stop words\n",
    "    formated_text = \"\"\n",
    "    for para in noStopwords:\n",
    "        line = para.lower() # change to lower case\n",
    "        line = line.replace('\\n','')\n",
    "        outNumline = ''.join(c for c in line if not c.isdigit())  # take off number\n",
    "        outPunc = ''.join(c for c in outNumline if c not in punctuation) # take off puncctutation\n",
    "        formated_text += outPunc + \" \"\n",
    "    return formated_text\n",
    "\n",
    "#print(cleanUpSentense(token_sent[0]))"
   ]
  },
  {
   "cell_type": "markdown",
   "metadata": {},
   "source": [
    "### Remove stop words"
   ]
  },
  {
   "cell_type": "code",
   "execution_count": 7,
   "metadata": {},
   "outputs": [],
   "source": [
    "#nltk.download('stopwords')\n",
    "from nltk.corpus import stopwords"
   ]
  },
  {
   "cell_type": "code",
   "execution_count": 8,
   "metadata": {},
   "outputs": [
    {
     "name": "stdout",
     "output_type": "stream",
     "text": [
      "741\n",
      "['natural', 'language', 'processing', 'nlp', 'subfield', 'linguistics', 'computer', 'science', 'artificial', 'intelligence', 'concerned', 'interactions', 'computers', 'human', 'language', 'particular', 'program', 'computers', 'process', 'analyze', 'large', 'amounts', 'natural', 'language', 'datachallenges', 'natural', 'language', 'processing', 'frequently', 'involve']\n"
     ]
    }
   ],
   "source": [
    "def _removeStopWords(tokenedWords):\n",
    "    stopword = stopwords.words('english')\n",
    "    removing_stopwords = [word for word in tokenedWords if word not in stopword]\n",
    "    return removing_stopwords\n",
    "cleanedTokenWords = _removeStopWords(tokenizedText)\n",
    "print(len(cleanedTokenWords))\n",
    "print(cleanedTokenWords[:30])"
   ]
  },
  {
   "cell_type": "markdown",
   "metadata": {},
   "source": [
    "### 2.3 (1.5 points) write a function to lemmatize the words"
   ]
  },
  {
   "cell_type": "code",
   "execution_count": 9,
   "metadata": {},
   "outputs": [],
   "source": [
    "#nltk.download('wordnet')\n",
    "from nltk.stem import WordNetLemmatizer"
   ]
  },
  {
   "cell_type": "code",
   "execution_count": 10,
   "metadata": {},
   "outputs": [
    {
     "name": "stdout",
     "output_type": "stream",
     "text": [
      "741\n",
      "['natural', 'language', 'processing', 'nlp', 'subfield', 'linguistics', 'computer', 'science', 'artificial', 'intelligence', 'concerned', 'interaction', 'computer', 'human', 'language', 'particular', 'program', 'computer', 'process', 'analyze', 'large', 'amount', 'natural', 'language', 'datachallenges', 'natural', 'language', 'processing', 'frequently', 'involve']\n"
     ]
    }
   ],
   "source": [
    "def lemmatizeWords(tokenText):\n",
    "    wordnet_lemmatizer = WordNetLemmatizer()\n",
    "    lemmatized_word = [wordnet_lemmatizer.lemmatize(word) for word in tokenText]\n",
    "    return lemmatized_word\n",
    "\n",
    "lemmatizedText = lemmatizeWords(cleanedTokenWords)\n",
    "print(len(lemmatizedText))\n",
    "print(lemmatizedText[:30])\n",
    "# line 2, computers -> computer"
   ]
  },
  {
   "cell_type": "markdown",
   "metadata": {},
   "source": [
    "### 2.4 (0.4 points) Calculate the word distribution using FreqDist"
   ]
  },
  {
   "cell_type": "code",
   "execution_count": 11,
   "metadata": {},
   "outputs": [
    {
     "data": {
      "text/plain": [
       "FreqDist({'language': 24, 'natural': 16, 'processing': 13, 'nlp': 11, 'task': 11, 'statistical': 11, 'machine': 9, 'algorithm': 9, 'rule': 8, 'learning': 8, ...})"
      ]
     },
     "execution_count": 11,
     "metadata": {},
     "output_type": "execute_result"
    }
   ],
   "source": [
    "# freq dist find the frequency of each words order DESC\n",
    "freqdic = nltk.FreqDist(lemmatizedText)\n",
    "freqdic"
   ]
  },
  {
   "cell_type": "markdown",
   "metadata": {},
   "source": [
    "### 2.5 (0.3 points) List and plot the top 15 words"
   ]
  },
  {
   "cell_type": "code",
   "execution_count": 12,
   "metadata": {},
   "outputs": [
    {
     "data": {
      "text/plain": [
       "[('language', 24),\n",
       " ('natural', 16),\n",
       " ('processing', 13),\n",
       " ('nlp', 11),\n",
       " ('task', 11),\n",
       " ('statistical', 11),\n",
       " ('machine', 9),\n",
       " ('algorithm', 9),\n",
       " ('rule', 8),\n",
       " ('learning', 8),\n",
       " ('model', 8),\n",
       " ('cognitive', 8),\n",
       " ('system', 7),\n",
       " ('word', 7),\n",
       " ('linguistics', 6)]"
      ]
     },
     "execution_count": 12,
     "metadata": {},
     "output_type": "execute_result"
    }
   ],
   "source": [
    "freqdic.most_common(15)"
   ]
  },
  {
   "cell_type": "code",
   "execution_count": 29,
   "metadata": {},
   "outputs": [
    {
     "data": {
      "image/png": "[encoded data removed]",
      "text/plain": [
       "<Figure size 432x288 with 1 Axes>"
      ]
     },
     "metadata": {
      "needs_background": "light"
     },
     "output_type": "display_data"
    },
    {
     "data": {
      "text/plain": [
       "<matplotlib.axes._subplots.AxesSubplot at 0x7fb7725652d0>"
      ]
     },
     "execution_count": 29,
     "metadata": {},
     "output_type": "execute_result"
    }
   ],
   "source": [
    "freqdic.plot(15)"
   ]
  },
  {
   "cell_type": "markdown",
   "metadata": {},
   "source": [
    "# Summerize\n",
    "## 3 (4.5 points) Summarize the text as shown in class:"
   ]
  },
  {
   "cell_type": "markdown",
   "metadata": {},
   "source": [
    "### 3.1 (1.5 points) Calculate word Weighted frequency\n",
    "Please specify the math formula.\n",
    "Hint: it would be easy to use FreqDist to get original word frequencies"
   ]
  },
  {
   "cell_type": "code",
   "execution_count": 14,
   "metadata": {},
   "outputs": [
    {
     "data": {
      "text/plain": [
       "'natural language processing (nlp) is a subfield of linguistics, computer science, and artificial intelligence concerned with the interactions between computers and human language, in particular how to program computers to process and analyze large amounts of natural language data.challenges in natural language processing frequently involve speech recognition, natural language understanding, and natural-language generation.natural language processing has its roots in the 1950s. already in 1950, alan turing published an article titled \"computing machinery and intelligence\" which proposed what is now called the turing test as a criterion of intelligence, a task that involves the automated interpretation and generation of natural language, but at the time not articulated as a problem separate from artificial intelligence.the premise of symbolic nlp is well-summarized by john searle\\'s chinese room experiment: given a collection of rules (e.g., a chinese phrasebook, with questions and matchi'"
      ]
     },
     "execution_count": 14,
     "metadata": {},
     "output_type": "execute_result"
    }
   ],
   "source": [
    "# download the page again\n",
    "def _scrape_webpage_with(url):\n",
    "    \"\"\"\n",
    "    Use BeautifulSoup to scrape the webpage text contents.\n",
    "    \"\"\"    \n",
    "    scraped_textdata = urllib.request.urlopen(url)\n",
    "    textdata = scraped_textdata.read()\n",
    "    parsed_textdata = bs.BeautifulSoup(textdata,'lxml')\n",
    "    paragraphs = parsed_textdata.find_all(['p'])\n",
    "    formated_text = \"\"\n",
    "    \n",
    "    for para in paragraphs:\n",
    "        line = para.text.lower() # change to lower case\n",
    "        line = line.replace('\\n','')\n",
    "        formated_text += line\n",
    "    \n",
    "    return formated_text\n",
    "\n",
    "textFull = _scrape_webpage_with('https://en.wikipedia.org/wiki/Natural_language_processing')\n",
    "textFull[0:1000]"
   ]
  },
  {
   "cell_type": "code",
   "execution_count": 15,
   "metadata": {},
   "outputs": [
    {
     "data": {
      "text/plain": [
       "'natural language processing (nlp) is a subfield of linguistics, computer science, and artificial intelligence concerned with the interactions between computers and human language, in particular how to program computers to process and analyze large amounts of natural language data.challenges in natural language processing frequently involve speech recognition, natural language understanding, and natural-language generation.natural language processing has its roots in the 1950s.'"
      ]
     },
     "execution_count": 15,
     "metadata": {},
     "output_type": "execute_result"
    }
   ],
   "source": [
    "# store the token as sentense \n",
    "from nltk.tokenize import sent_tokenize\n",
    "token_sent = sent_tokenize(textFull)\n",
    "token_sent[0]"
   ]
  },
  {
   "cell_type": "code",
   "execution_count": 16,
   "metadata": {},
   "outputs": [],
   "source": [
    "from string import punctuation\n",
    "from nltk.corpus import stopwords\n",
    "stopword = stopwords.words('english')\n",
    "\n",
    "def cleanUpSentense(token_sent):\n",
    "    senttoken = nltk.word_tokenize(token_sent)\n",
    "    leSent = lemmatizeWords(senttoken)  # lemmatize senstnce\n",
    "    noStopwords = [word for word in leSent if word not in stopword]  # remove stop words\n",
    "    formated_text = \"\"\n",
    "    for para in noStopwords:\n",
    "        line = para.lower() # change to lower case\n",
    "        #line = line.replace('\\n','')\n",
    "        outNumline = ''.join(c for c in line if not c.isdigit())  # take off number\n",
    "        outPunc = ''.join(c for c in outNumline if c not in punctuation) # take off puncctutation\n",
    "        if len(outPunc) > 1:\n",
    "            formated_text += outPunc + \" \"\n",
    "    return formated_text\n",
    "#print(cleanUpSentense(token_sent[0]))"
   ]
  },
  {
   "cell_type": "code",
   "execution_count": 17,
   "metadata": {},
   "outputs": [
    {
     "data": {
      "text/plain": [
       "'natural language processing nlp subfield linguistics computer science artificial intelligence concerned interaction computer human language particular program computer process analyze large amount natural language datachallenges natural language processing frequently involve speech recognition natural language understanding naturallanguage generationnatural language processing ha root '"
      ]
     },
     "execution_count": 17,
     "metadata": {},
     "output_type": "execute_result"
    }
   ],
   "source": [
    "#clean up all the sentances in the tokenset\n",
    "for idx in range(0,len(token_sent)):\n",
    "    token_sent[idx] = cleanUpSentense(token_sent[idx])\n",
    "token_sent[0]"
   ]
  },
  {
   "cell_type": "markdown",
   "metadata": {},
   "source": [
    "### calculate the weight of each words\n",
    "\n",
    "refernce: https://www.tutorialspoint.com/gensim/gensim_creating_tf_idf_matrix.htm"
   ]
  },
  {
   "cell_type": "code",
   "execution_count": 18,
   "metadata": {},
   "outputs": [],
   "source": [
    "import gensim\n",
    "from gensim import corpora\n",
    "from gensim.utils import simple_preprocess"
   ]
  },
  {
   "cell_type": "markdown",
   "metadata": {},
   "source": [
    "### The function we use is TF-IDF\n",
    "\n",
    "weight = tf * log(N/df+1)\n",
    "\n",
    "TF -> probability of finding a word in the docutment  ->  appearTimes / total_words or appearTimes, here I use appearTimes\n",
    "\n",
    "IDF -> log(total sentances / sentance with this word + 1) -> +1 for regard case in 0"
   ]
  },
  {
   "cell_type": "code",
   "execution_count": 19,
   "metadata": {},
   "outputs": [],
   "source": [
    "import gensim\n",
    "import pprint\n",
    "from gensim import corpora\n",
    "from gensim.utils import simple_preprocess\n",
    "from gensim.models import TfidfModel\n",
    "\n",
    "doc_tokenized = [simple_preprocess(doc) for doc in token_sent]\n",
    "dictionary = corpora.Dictionary()\n",
    "BoW_corpus = [dictionary.doc2bow(doc, allow_update=True) for doc in doc_tokenized]\n",
    "#for doc in BoW_corpus: print([[dictionary[id], freq] for id, freq in doc])\n",
    "\n",
    "\n",
    "import numpy as np\n",
    "tfidf = TfidfModel(BoW_corpus, smartirs='ntc')\n",
    "#for doc in tfidf[BoW_corpus]: print([[dictionary[id], np.around(freq,decimals=6)] for id, freq in doc])\n"
   ]
  },
  {
   "cell_type": "markdown",
   "metadata": {},
   "source": [
    "### 3.2 (1.5 points) Score the sentences"
   ]
  },
  {
   "cell_type": "code",
   "execution_count": 20,
   "metadata": {},
   "outputs": [
    {
     "data": {
      "text/plain": [
       "{'amount': 0.1919,\n",
       " 'analyze': 0.1919,\n",
       " 'artificial': 0.10584,\n",
       " 'computer': 0.14335,\n",
       " 'concerned': 0.1919,\n",
       " 'datachallenges': 0.1919,\n",
       " 'frequently': 0.1919,\n",
       " 'ha': 0.12879,\n",
       " 'human': 0.16859,\n",
       " 'intelligence': 0.21167}"
      ]
     },
     "execution_count": 20,
     "metadata": {},
     "output_type": "execute_result"
    }
   ],
   "source": [
    "wordScore = {}\n",
    "for doc in tfidf[BoW_corpus]:\n",
    "    for id, req in doc:\n",
    "        wordScore[dictionary[id]] = np.around(req,decimals=5)\n",
    "\n",
    "dict(list(wordScore.items())[0:10])"
   ]
  },
  {
   "cell_type": "code",
   "execution_count": 21,
   "metadata": {},
   "outputs": [
    {
     "data": {
      "text/plain": [
       "{'starting late however wa revolution natural language processing introduction machine learning algorithm language processing ': 2.0461600000000004,\n",
       " 'wa due steady increase computational power see moore law gradual lessening dominance chomskyan theory linguistics eg ': 3.6817300000000013,\n",
       " 'transformational grammar whose theoretical underpinnings discouraged sort corpus linguistics underlies machinelearning approach language processing ': 2.90235}"
      ]
     },
     "execution_count": 21,
     "metadata": {},
     "output_type": "execute_result"
    }
   ],
   "source": [
    "sentScore = {}\n",
    "for sent in token_sent:\n",
    "    for word in nltk.word_tokenize(sent):\n",
    "        if word in wordScore.keys():\n",
    "            if len(sent.split(' ')) < 30:\n",
    "                if sent not in sentScore.keys():\n",
    "                    sentScore[sent] = wordScore[word]\n",
    "                else:\n",
    "                    sentScore[sent] += wordScore[word]\n",
    "                    \n",
    "dict(list(sentScore.items())[0:3])"
   ]
  },
  {
   "cell_type": "markdown",
   "metadata": {},
   "source": [
    "# Since the score didn't went well, I choose to use other method instead of gensim\n",
    "\n",
    "reference: https://stackabuse.com/text-summarization-with-nltk-in-python/#:~:text=Text%20summarization%20is%20a%20subdomain,and%20deep%20learning%2Dbased%20techniques."
   ]
  },
  {
   "cell_type": "code",
   "execution_count": 22,
   "metadata": {},
   "outputs": [
    {
     "data": {
      "text/plain": [
       "{'natural': 0.6666666666666666,\n",
       " 'language': 1.0,\n",
       " 'processing': 0.5833333333333334,\n",
       " 'nlp': 0.4583333333333333,\n",
       " 'subfield': 0.041666666666666664}"
      ]
     },
     "execution_count": 22,
     "metadata": {},
     "output_type": "execute_result"
    }
   ],
   "source": [
    "sents = \"\"\n",
    "token_sent = sent_tokenize(textFull)\n",
    "for idx in range(0,len(token_sent)):\n",
    "    token_sent[idx] = cleanUpSentense(token_sent[idx])\n",
    "for sent in token_sent:\n",
    "    sents += sent\n",
    "sents = nltk.word_tokenize(sents)\n",
    "\n",
    "\n",
    "#BoW\n",
    "freqDict = nltk.FreqDist(sents)\n",
    "max_freq = max(freqDict.values())\n",
    "wordFreq = {}\n",
    "\n",
    "for key in freqDict.keys():\n",
    "    wordFreq[key] = (freqDict[key]/max_freq)\n",
    "\n",
    "    \n",
    "dict(list(wordFreq.items())[0:5])"
   ]
  },
  {
   "cell_type": "code",
   "execution_count": 23,
   "metadata": {},
   "outputs": [
    {
     "data": {
      "text/plain": [
       "{'natural': 0.021361815754339118,\n",
       " 'language': 0.03204272363150868,\n",
       " 'processing': 0.018691588785046728,\n",
       " 'nlp': 0.014686248331108143,\n",
       " 'subfield': 0.0013351134846461949}"
      ]
     },
     "execution_count": 23,
     "metadata": {},
     "output_type": "execute_result"
    }
   ],
   "source": [
    "# find TF\n",
    "wordCnt = dict.fromkeys(sents, 0)\n",
    "totalCnt = len(sents);\n",
    "for word in sents:\n",
    "    wordCnt[word] += 1\n",
    "\n",
    "    \n",
    "tfDict = {}\n",
    "for word, cnt in wordCnt.items():\n",
    "    tfDict[word] = cnt / totalCnt\n",
    "\n",
    "dict(list(tfDict.items())[0:5])"
   ]
  },
  {
   "cell_type": "code",
   "execution_count": 24,
   "metadata": {},
   "outputs": [
    {
     "data": {
      "text/plain": [
       "{'natural': 5.925591802957274,\n",
       " 'language': 5.925591802957274,\n",
       " 'processing': 5.925591802957274,\n",
       " 'nlp': 5.925591802957274,\n",
       " 'subfield': 5.925591802957274}"
      ]
     },
     "execution_count": 24,
     "metadata": {},
     "output_type": "execute_result"
    }
   ],
   "source": [
    "# find IDF\n",
    "import math\n",
    "\n",
    "idfDict = dict.fromkeys(sents, 0)\n",
    "for word, cnt in wordCnt.items():\n",
    "    if cnt > 0:\n",
    "        idfDict[word] += 1\n",
    "for word, cnt in idfDict.items():\n",
    "    idfDict[word] = math.log(totalCnt / (cnt + 1))\n",
    "\n",
    "dict(list(idfDict.items())[0:5])"
   ]
  },
  {
   "cell_type": "code",
   "execution_count": 25,
   "metadata": {},
   "outputs": [
    {
     "data": {
      "text/plain": [
       "{'natural': 0.12658140033019544,\n",
       " 'language': 0.18987210049529316,\n",
       " 'processing': 0.110758725288921,\n",
       " 'nlp': 0.08702471272700936,\n",
       " 'subfield': 0.007911337520637215}"
      ]
     },
     "execution_count": 25,
     "metadata": {},
     "output_type": "execute_result"
    }
   ],
   "source": [
    "# get tfidf\n",
    "tfidf = {}\n",
    "for word, cnt in tfDict.items():\n",
    "    tfidf[word] = cnt * idfDict[word]\n",
    "\n",
    "dict(list(tfidf.items())[0:5])"
   ]
  },
  {
   "cell_type": "markdown",
   "metadata": {},
   "source": [
    "## Score of sentence"
   ]
  },
  {
   "cell_type": "code",
   "execution_count": 26,
   "metadata": {},
   "outputs": [
    {
     "data": {
      "text/plain": [
       "{'starting in the late 1980s, however, there was a revolution in natural language processing with the introduction of machine learning algorithms for language processing.': 0.957271839997103,\n",
       " \"this was due to both the steady increase in computational power (see moore's law) and the gradual lessening of the dominance of chomskyan theories of linguistics (e.g.\": 0.18987210049529318,\n",
       " 'transformational grammar), whose theoretical underpinnings discouraged the sort of corpus linguistics that underlies the machine-learning approach to language processing.': 0.5063256013207817}"
      ]
     },
     "execution_count": 26,
     "metadata": {},
     "output_type": "execute_result"
    }
   ],
   "source": [
    "sentenceScore = {}\n",
    "token_sent = sent_tokenize(textFull)\n",
    "\n",
    "for sent in token_sent:\n",
    "    for word in nltk.word_tokenize(sent):\n",
    "        if word in tfidf.keys():\n",
    "            if len(sent.split(' ')) < 30:\n",
    "                if sent not in sentenceScore.keys():\n",
    "                    sentenceScore[sent] = tfidf[word]\n",
    "                else:\n",
    "                    sentenceScore[sent] += tfidf[word]\n",
    "\n",
    "dict(list(sentenceScore.items())[0:3])"
   ]
  },
  {
   "cell_type": "markdown",
   "metadata": {},
   "source": [
    "### 3.3 (1.5 points) Build a summary (based on ratio, sentence or word count, etc.)"
   ]
  },
  {
   "cell_type": "code",
   "execution_count": 27,
   "metadata": {},
   "outputs": [
    {
     "name": "stdout",
     "output_type": "stream",
     "text": [
      "starting in the late 1980s, however, there was a revolution in natural language processing with the introduction of machine learning algorithms for language processing. transformational grammar), whose theoretical underpinnings discouraged the sort of corpus linguistics that underlies the machine-learning approach to language processing. increasingly, however, research has focused on statistical models, which make soft, probabilistic decisions based on attaching real-valued weights to each input feature. the cache language models upon which many speech recognition systems now rely are examples of such statistical models. when used as a stative verb, as in ”tomorrow is a big day”, a likely inference of the author’s intent it that ”big” is being used to imply ”importance”. since the early 2010s,[16] the field has thus largely abandoned statistical methods and shifted to neural networks for machine learning. [26] cognitive linguistics is an interdisciplinary branch of linguistics, combining knowledge and research from both psychology and linguistics.\n"
     ]
    }
   ],
   "source": [
    "import heapq\n",
    "summary_sentences = heapq.nlargest(7, sentenceScore, key=sentenceScore.get)\n",
    "summary = ' '.join(summary_sentences)\n",
    "print(summary)"
   ]
  },
  {
   "cell_type": "markdown",
   "metadata": {},
   "source": [
    "## 4 (0.5 point) Summarize the same text data using Gensim with TextRank"
   ]
  },
  {
   "cell_type": "code",
   "execution_count": 28,
   "metadata": {},
   "outputs": [
    {
     "data": {
      "text/plain": [
       "'already in 1950, alan turing published an article titled \"computing machinery and intelligence\" which proposed what is now called the turing test as a criterion of intelligence, a task that involves the automated interpretation and generation of natural language, but at the time not articulated as a problem separate from artificial intelligence.the premise of symbolic nlp is well-summarized by john searle\\'s chinese room experiment: given a collection of rules (e.g., a chinese phrasebook, with questions and matching answers), the computer emulates natural language understanding (or other nlp tasks) by applying those rules to the data it is confronted with.up to the 1980s, most natural language processing systems were based on complex sets of hand-written rules.\\nthis was due to both the steady increase in computational power (see moore\\'s law) and the gradual lessening of the dominance of chomskyan theories of linguistics (e.g. transformational grammar), whose theoretical underpinnings discouraged the sort of corpus linguistics that underlies the machine-learning approach to language processing.[6]in the 2010s, representation learning and deep neural network-style machine learning methods became widespread in natural language processing, due in part to a flurry of results showing that such techniques[7][8] can achieve state-of-the-art results in many natural language tasks, for example in language modeling,[9] parsing,[10][11] and many others.in the early days, many language-processing systems were designed by symbolic methods, i.e., the hand-coding of a set of rules, coupled with a dictionary lookup:[12][13] such as by writing grammars or devising heuristic rules for stemming.more recent systems based on machine-learning algorithms have many advantages over hand-produced rules: despite the popularity of machine learning in nlp research, symbolic methods are still (2020) commonly usedsince the so-called \"statistical revolution\"[14][15] in the late 1980s and mid-1990s, much natural language processing research has relied heavily on machine learning.\\nthe machine-learning paradigm calls instead for using statistical inference to automatically learn such rules through the analysis of large corpora (the plural form of corpus, is a set of documents, possibly with human or computer annotations) of typical real-world examples.many different classes of machine-learning algorithms have been applied to natural-language-processing tasks.\\nhowever, part-of-speech tagging introduced the use of hidden markov models to natural language processing, and increasingly, research has focused on statistical models, which make soft, probabilistic decisions based on attaching real-valued weights to the features making up the input data.'"
      ]
     },
     "execution_count": 28,
     "metadata": {},
     "output_type": "execute_result"
    }
   ],
   "source": [
    "from gensim.summarization import summarize\n",
    "summarize(textFull)"
   ]
  },
  {
   "cell_type": "markdown",
   "metadata": {},
   "source": [
    "## 5 (1 point) Compare 3.1 method with Gensim-TextRank. What’s different and why? Could your methods be improved? And How to improve? Please clearly explain."
   ]
  },
  {
   "cell_type": "markdown",
   "metadata": {},
   "source": [
    "### Difference: \n",
    "Summarized with gensim will contains a lot of useless numbers and punctuations. This is avoid by clean up during our section. But their summarized includes more information than use since they are having a bigger and better score system. Its IDF score has a larger base than mine. This makes its acuracy become highter than mine.\n",
    "\n",
    "Although I can acurately calculate the TF score for my document. The biggest problem for my project is lack of paragraphs and inaccurate word scores. In order to improve it, i will use outsoucre, like some APIs to calcualte the IDF score for me. A larger system will give back a better score.\n",
    "\n",
    "Another way I can imporve it is to use webScraping method to download multiple related pages to increase my IDF score.\n",
    "\n"
   ]
  }
 ],
 "metadata": {
  "kernelspec": {
   "display_name": "Python 3",
   "language": "python",
   "name": "python3"
  },
  "language_info": {
   "codemirror_mode": {
    "name": "ipython",
    "version": 3
   },
   "file_extension": ".py",
   "mimetype": "text/x-python",
   "name": "python",
   "nbconvert_exporter": "python",
   "pygments_lexer": "ipython3",
   "version": "3.7.4"
  }
 },
 "nbformat": 4,
 "nbformat_minor": 2
}
