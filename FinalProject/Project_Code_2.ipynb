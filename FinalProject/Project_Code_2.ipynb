{
 "cells": [
  {
   "cell_type": "code",
   "execution_count": 1,
   "metadata": {},
   "outputs": [
    {
     "name": "stderr",
     "output_type": "stream",
     "text": [
      "[nltk_data] Downloading package punkt to /Users/yososky/nltk_data...\n",
      "[nltk_data]   Package punkt is already up-to-date!\n"
     ]
    }
   ],
   "source": [
    "# Importing modules needed\n",
    "import nltk\n",
    "nltk.download(\"punkt\")\n",
    "from nltk.tokenize import word_tokenize\n",
    "import re\n",
    "import random\n",
    "import pandas as pd"
   ]
  },
  {
   "cell_type": "code",
   "execution_count": 2,
   "metadata": {},
   "outputs": [
    {
     "data": {
      "text/html": [
       "<div>\n",
       "<style scoped>\n",
       "    .dataframe tbody tr th:only-of-type {\n",
       "        vertical-align: middle;\n",
       "    }\n",
       "\n",
       "    .dataframe tbody tr th {\n",
       "        vertical-align: top;\n",
       "    }\n",
       "\n",
       "    .dataframe thead th {\n",
       "        text-align: right;\n",
       "    }\n",
       "</style>\n",
       "<table border=\"1\" class=\"dataframe\">\n",
       "  <thead>\n",
       "    <tr style=\"text-align: right;\">\n",
       "      <th></th>\n",
       "      <th>negativereason</th>\n",
       "      <th>airline</th>\n",
       "      <th>tweet_location</th>\n",
       "      <th>retweet_count</th>\n",
       "      <th>text</th>\n",
       "      <th>sentiment</th>\n",
       "      <th>topic</th>\n",
       "    </tr>\n",
       "  </thead>\n",
       "  <tbody>\n",
       "    <tr>\n",
       "      <td>0</td>\n",
       "      <td>Bad Flight</td>\n",
       "      <td>Virgin America</td>\n",
       "      <td>NaN</td>\n",
       "      <td>0</td>\n",
       "      <td>@VirginAmerica it's really aggressive to blast...</td>\n",
       "      <td>Negative</td>\n",
       "      <td>3</td>\n",
       "    </tr>\n",
       "    <tr>\n",
       "      <td>1</td>\n",
       "      <td>Can't Tell</td>\n",
       "      <td>Virgin America</td>\n",
       "      <td>NaN</td>\n",
       "      <td>0</td>\n",
       "      <td>@VirginAmerica and it's a really big bad thing...</td>\n",
       "      <td>Negative</td>\n",
       "      <td>8</td>\n",
       "    </tr>\n",
       "    <tr>\n",
       "      <td>2</td>\n",
       "      <td>Can't Tell</td>\n",
       "      <td>Virgin America</td>\n",
       "      <td>NaN</td>\n",
       "      <td>0</td>\n",
       "      <td>@VirginAmerica seriously would pay $30 a fligh...</td>\n",
       "      <td>Negative</td>\n",
       "      <td>8</td>\n",
       "    </tr>\n",
       "    <tr>\n",
       "      <td>3</td>\n",
       "      <td>NaN</td>\n",
       "      <td>Virgin America</td>\n",
       "      <td>San Diego</td>\n",
       "      <td>0</td>\n",
       "      <td>@virginamerica Well, I didn'tâ€¦but NOW I DO! :-D</td>\n",
       "      <td>Negative</td>\n",
       "      <td>7</td>\n",
       "    </tr>\n",
       "    <tr>\n",
       "      <td>4</td>\n",
       "      <td>NaN</td>\n",
       "      <td>Virgin America</td>\n",
       "      <td>1/1 loner squad</td>\n",
       "      <td>0</td>\n",
       "      <td>@VirginAmerica did you know that suicide is th...</td>\n",
       "      <td>Negative</td>\n",
       "      <td>6</td>\n",
       "    </tr>\n",
       "  </tbody>\n",
       "</table>\n",
       "</div>"
      ],
      "text/plain": [
       "  negativereason         airline   tweet_location  retweet_count  \\\n",
       "0     Bad Flight  Virgin America              NaN              0   \n",
       "1     Can't Tell  Virgin America              NaN              0   \n",
       "2     Can't Tell  Virgin America              NaN              0   \n",
       "3            NaN  Virgin America        San Diego              0   \n",
       "4            NaN  Virgin America  1/1 loner squad              0   \n",
       "\n",
       "                                                text sentiment  topic  \n",
       "0  @VirginAmerica it's really aggressive to blast...  Negative      3  \n",
       "1  @VirginAmerica and it's a really big bad thing...  Negative      8  \n",
       "2  @VirginAmerica seriously would pay $30 a fligh...  Negative      8  \n",
       "3  @virginamerica Well, I didn'tâ€¦but NOW I DO! :-D  Negative      7  \n",
       "4  @VirginAmerica did you know that suicide is th...  Negative      6  "
      ]
     },
     "execution_count": 2,
     "metadata": {},
     "output_type": "execute_result"
    }
   ],
   "source": [
    "df_neg = pd.read_csv(\"negativeTweets.csv\")\n",
    "df_neg.head()  "
   ]
  },
  {
   "cell_type": "markdown",
   "metadata": {},
   "source": [
    "## Function for fitting the problem to the right reason\n",
    "\n",
    "First Step:\n",
    "import all the libraries required to process\n",
    "then import the data-set “Tweets.csv” \n",
    " \n",
    "Second step:\n",
    "Train the model on the bases of text ,negativereason and tweet_location\n",
    "\n",
    "third step:\n",
    "find out the occurrence of location from tweet_location and we see that most of the time people don’t mention there location and the reset top5 location [(\\'unknown\\', 293) , (\\'San Francisco\\', 27),(\\'San Francisco, CA\\', 21),(\\'USA\\', 15),(\\'Seattle\\', 15)]  that are more frequently use are noted to be use during process. (Optional)\n",
    "\n",
    "Fourth step:\n",
    "Apply Decision Tree Classifier to get the results of the tweet that user will enter\n",
    "it will determine the negativereason and tweet lcation"
   ]
  },
  {
   "cell_type": "code",
   "execution_count": 3,
   "metadata": {},
   "outputs": [],
   "source": [
    "import pandas as pd, numpy as np\n",
    "from sklearn.tree import DecisionTreeClassifier\n",
    "from sklearn.feature_extraction.text import CountVectorizer, TfidfVectorizer\n",
    "import re, string\n",
    "df_train = pd.read_csv(\"Tweets.csv\")\n",
    "df_train[\"negativereason\"].fillna(\"unknown\", inplace=True)\n",
    "df_train[\"tweet_location\"].fillna(\"unknown\", inplace=True)\n",
    "df_train[\"text\"].fillna(\"unknown\", inplace=True)\n",
    "text_train = df_train.iloc[: , 6].values\n",
    "labels_train = df_train.iloc[: , [1,4]].values\n",
    "re_tok = re.compile(f'([{string.punctuation}“”¨«»®´·º½¾¿¡§£₤‘’])')\n",
    "def tokenize(s): return re_tok.sub(r' \\1 ', s).split()\n",
    "vect = TfidfVectorizer(use_idf = False ,tokenizer=tokenize,smooth_idf = True )\n",
    "matrix_x = vect.fit_transform(text_train)\n",
    "DT = DecisionTreeClassifier()\n",
    "weight = DT.fit(matrix_x, labels_train)"
   ]
  },
  {
   "cell_type": "code",
   "execution_count": 9,
   "metadata": {},
   "outputs": [
    {
     "name": "stdout",
     "output_type": "stream",
     "text": [
      "Enter the Text: by booked flight is getting error message\n",
      "Can't Tell\n"
     ]
    }
   ],
   "source": [
    "## use for \n",
    "text_input = input(\"Enter the Text: \")\n",
    "text = []\n",
    "text.append(text_input)\n",
    "pre_x = vect.transform(text)\n",
    "labels = weight.predict(pre_x)\n",
    "print(labels[0][0])"
   ]
  },
  {
   "cell_type": "markdown",
   "metadata": {},
   "source": [
    "## Auto read system\n",
    "We have set up a auto read system as well. Since the data itself has told us enought infomation, we can skip this section. But if we are facing new sentances that not included in the system. The fuction will be appled"
   ]
  },
  {
   "cell_type": "code",
   "execution_count": 5,
   "metadata": {},
   "outputs": [],
   "source": [
    "# Created mutiple categories for Eliza's response\n",
    "# Regluar Expression is also used to search for user's input- \n",
    "\"\"\"\n",
    "Cancelled Flightled (cancelled flightled)\n",
    "Bad Flight:  (seat)\n",
    "Late Flight: (late, delay)\n",
    "booking issue (book, error message)\n",
    "Lost/Damaged Luggage (lost baggage, luggage, damaged)\n",
    "Flight Attendant Complaints (attendant)\n",
    "customer service: (service, email, website)\n",
    "\"\"\"\n",
    "eliza_dict= { \n",
    "    \n",
    "    r'.*(cancelled flightled|cancelled flight|cancel|Cancelled Flight)(.*)':\n",
    "        [\n",
    "            \"If you meet problem with your flight schedule, please find us at our counter for your schedule!\",\n",
    "            \"We are sorry to hear your issue. But! You can call use with xxx. We will help you with your flight!\"\n",
    "         ],   \n",
    "    \n",
    "    r'(.*)(minutes late flight|late|delay|delayed|Bad Flight).*':\n",
    "        [\n",
    "            \"We understand our servcie may bring hurt to your time. Visit www.usgift.com and get your free drink with cupon XXX today!\",\n",
    "            \"Still waiting for you flight? We prepare free snack for you! Visit www.usgift.com with cupon XXX!\",\n",
    "            \"If you are boring for waiting, come to our counter and pick your free nuts!\"\n",
    "         ],  \n",
    "    \n",
    "    r'(.*) (seat|seats|wifi|Bad Flight) (.*)':\n",
    "        [\n",
    "            \"We understand your are facing seating issue. The carefully and fairly treat every customer. If you feel opposite, please call our number xxx\",\n",
    "            \"Sometimes, its hard for us to fit everyone into the wished seat. But! Tips! Your can double check when boarding!\",\n",
    "            \"Maybe you missed your best seat. A good tip is to check seat before boarding. Maybe we can upgrade for you!\"\n",
    "        ],\n",
    "    \n",
    "    r'(.*) (book|rebook|booked|booking|error message|Flight Booking Problems)(.*)':\n",
    "        [\n",
    "            \"Did you meet problem with booking? Contact our customer support for further help! Number is xxxxxx.\",\n",
    "            \"If you meet booking issue, best way is call use or email us with your situation. We will reply you soon!\",\n",
    "            \"Have you receive the comfrim email recipt? If not, please contact us now!\"\n",
    "        ],\n",
    "    \n",
    "    r'(.*) (lost my bag|baggage|luggage|damaged|Lost Luggage)(.*)':\n",
    "        [\n",
    "            \"If you meet baggage issue, you can find our baggage center for help!\",\n",
    "            \"Are you facing baggae issue? Call number xxxxx-xxx. Our baggage center will help you with your issue!\"\n",
    "        ],\n",
    "    \n",
    "    r'(.*) (attendant|Flight Attendant Complaints) (.*)':\n",
    "        [\n",
    "            \"If you meet problem with our staff? Can you tell us more detail? Call xxxx!\",\n",
    "            \"Do you think our sevice have any improment? Please tell us at our counter!\"\n",
    "         ],   \n",
    "    \n",
    "    r'(.*)(service|customer service|email|website|Customer Service Issue)(.*)':\n",
    "        [\n",
    "            \"Our customer manager is open to you if you really need our help. You can call xxx dail with xxx directly!\",\n",
    "            \"Can you tell us your email or phone number here (www.xxxxxx.com) with issue xxx. We will have someone help you soon.\"\n",
    "         ],\n",
    "    \n",
    "    r'(.*)':\n",
    "         [\n",
    "            \"You can visit our website xxx for more help! We have online represenatitives!\",\n",
    "            \"Please tell us more with us to help use improve. Call xxx today!\",        \n",
    "            \"Meet our staff at the counter. Tell us your story. We will help you!\"\n",
    "        ]\n",
    "}"
   ]
  },
  {
   "cell_type": "code",
   "execution_count": 27,
   "metadata": {},
   "outputs": [],
   "source": [
    "#Main function to check user's input and allows auto reply with proper response\n",
    "def figureAirline (userTyped):\n",
    "    tokens = word_tokenize(userTyped)\n",
    "    if tokens[0] == '@':\n",
    "        airline = tokens[1]\n",
    "    else:\n",
    "        airline = 'Aviation Alliance'\n",
    "    return airline\n",
    "\n",
    "def userSideInput(userTyped, with_airline):  \n",
    "    # find the paired re from the dictionary\n",
    "    for matches, responses in eliza_dict.items():   \n",
    "        ans = re.search(matches, userTyped.rstrip(\",.\").lower())   \n",
    "        \n",
    "        # if found a match (userinput = key value in Eliza_dict)\n",
    "        if ans:       \n",
    "            \n",
    "            # choose a random reply                                  \n",
    "            reply = random.choice(responses)      \n",
    "            if \"%s\" in reply:\n",
    "                sWord = ans[1]\n",
    "                #print(sWord)\n",
    "                pronouce = pronounceSwitch(sWord)\n",
    "                reply = reply %(pronouce)\n",
    "            if with_airline:\n",
    "                return '[Message from ' + str(figureAirline(userTyped)) + ']: ' + str(reply)\n",
    "            else:\n",
    "                return str(reply)"
   ]
  },
  {
   "cell_type": "code",
   "execution_count": 29,
   "metadata": {},
   "outputs": [
    {
     "name": "stdout",
     "output_type": "stream",
     "text": [
      "Message: @united doesn't help the 100 or more passengers that just arrived an hour Late Flight.\n",
      "Reply: [Message from united]: Still waiting for you flight? We prepare free snack for you! Visit www.usgift.com with cupon XXX!\n",
      "\n",
      "\n",
      "Message: @USAirways has the worst customer service line.  I've called them 8 times today and not once was I able to talk to a real human being.\n",
      "Reply: [Message from USAirways]: Our customer manager is open to you if you really need our help. You can call xxx dail with xxx directly!\n",
      "\n",
      "\n",
      "Message: @united this is nuts they said a flight was on the ground now it's still in Albany and they won't have a plane.  Someone is compensating me\n",
      "Reply: [Message from united]: You can visit our website xxx for more help! We have online represenatitives!\n",
      "\n",
      "\n"
     ]
    }
   ],
   "source": [
    "for i in range(3):\n",
    "    message = df_neg.iloc[random.randint(0, len(df_neg)-1)][4]\n",
    "    print('Message: ' + message)\n",
    "  \n",
    "    print('Reply: ' + userSideInput(message, True))\n",
    "    print('\\n')"
   ]
  },
  {
   "cell_type": "code",
   "execution_count": 32,
   "metadata": {},
   "outputs": [
    {
     "name": "stdout",
     "output_type": "stream",
     "text": [
      "Enter the Text: my fight is delayed\n",
      "Type of problem: Late Flight\n",
      "Still waiting for you flight? We prepare free snack for you! Visit www.usgift.com with cupon XXX!\n"
     ]
    }
   ],
   "source": [
    "## use for text out of database. User can type complaint directly\n",
    "\n",
    "text_input = input(\"Enter the Text: \")\n",
    "text = []\n",
    "text.append(text_input)\n",
    "pre_x = vect.transform(text)\n",
    "labels = weight.predict(pre_x)\n",
    "print('Type of problem: ' + str(labels[0][0]))\n",
    "print(userSideInput(labels[0][0], False))"
   ]
  },
  {
   "cell_type": "code",
   "execution_count": null,
   "metadata": {},
   "outputs": [],
   "source": []
  }
 ],
 "metadata": {
  "kernelspec": {
   "display_name": "Python 3",
   "language": "python",
   "name": "python3"
  },
  "language_info": {
   "codemirror_mode": {
    "name": "ipython",
    "version": 3
   },
   "file_extension": ".py",
   "mimetype": "text/x-python",
   "name": "python",
   "nbconvert_exporter": "python",
   "pygments_lexer": "ipython3",
   "version": "3.7.4"
  }
 },
 "nbformat": 4,
 "nbformat_minor": 2
}
