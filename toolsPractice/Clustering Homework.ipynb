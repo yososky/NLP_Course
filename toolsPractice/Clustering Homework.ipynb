{
 "cells": [
  {
   "cell_type": "code",
   "execution_count": 1,
   "metadata": {},
   "outputs": [],
   "source": [
    "import pandas as pd\n",
    "import numpy as np\n",
    "from sklearn.neighbors import NearestNeighbors\n",
    "from sklearn.cluster import KMeans\n",
    "from sklearn.preprocessing import MinMaxScaler, RobustScaler\n",
    "from sklearn.metrics import davies_bouldin_score\n",
    "import matplotlib.pyplot as plt"
   ]
  },
  {
   "cell_type": "code",
   "execution_count": 2,
   "metadata": {},
   "outputs": [],
   "source": [
    "read = pd.read_excel(\"EastWestAirlines.xls\",sheet_name='data', header = 0)\n",
    "df = read.iloc[:,1:]"
   ]
  },
  {
   "cell_type": "code",
   "execution_count": 3,
   "metadata": {},
   "outputs": [
    {
     "name": "stdout",
     "output_type": "stream",
     "text": [
      "Balance              0\n",
      "Qual_miles           0\n",
      "cc1_miles            0\n",
      "cc2_miles            0\n",
      "cc3_miles            0\n",
      "Bonus_miles          0\n",
      "Bonus_trans          0\n",
      "Flight_miles_12mo    0\n",
      "Flight_trans_12      0\n",
      "Days_since_enroll    0\n",
      "Award?               0\n",
      "dtype: int64\n",
      "(3999, 11)\n"
     ]
    },
    {
     "data": {
      "text/html": [
       "<div>\n",
       "<style scoped>\n",
       "    .dataframe tbody tr th:only-of-type {\n",
       "        vertical-align: middle;\n",
       "    }\n",
       "\n",
       "    .dataframe tbody tr th {\n",
       "        vertical-align: top;\n",
       "    }\n",
       "\n",
       "    .dataframe thead th {\n",
       "        text-align: right;\n",
       "    }\n",
       "</style>\n",
       "<table border=\"1\" class=\"dataframe\">\n",
       "  <thead>\n",
       "    <tr style=\"text-align: right;\">\n",
       "      <th></th>\n",
       "      <th>Balance</th>\n",
       "      <th>Qual_miles</th>\n",
       "      <th>cc1_miles</th>\n",
       "      <th>cc2_miles</th>\n",
       "      <th>cc3_miles</th>\n",
       "      <th>Bonus_miles</th>\n",
       "      <th>Bonus_trans</th>\n",
       "      <th>Flight_miles_12mo</th>\n",
       "      <th>Flight_trans_12</th>\n",
       "      <th>Days_since_enroll</th>\n",
       "      <th>Award?</th>\n",
       "    </tr>\n",
       "  </thead>\n",
       "  <tbody>\n",
       "    <tr>\n",
       "      <th>0</th>\n",
       "      <td>28143</td>\n",
       "      <td>0</td>\n",
       "      <td>1</td>\n",
       "      <td>1</td>\n",
       "      <td>1</td>\n",
       "      <td>174</td>\n",
       "      <td>1</td>\n",
       "      <td>0</td>\n",
       "      <td>0</td>\n",
       "      <td>7000</td>\n",
       "      <td>0</td>\n",
       "    </tr>\n",
       "    <tr>\n",
       "      <th>1</th>\n",
       "      <td>19244</td>\n",
       "      <td>0</td>\n",
       "      <td>1</td>\n",
       "      <td>1</td>\n",
       "      <td>1</td>\n",
       "      <td>215</td>\n",
       "      <td>2</td>\n",
       "      <td>0</td>\n",
       "      <td>0</td>\n",
       "      <td>6968</td>\n",
       "      <td>0</td>\n",
       "    </tr>\n",
       "    <tr>\n",
       "      <th>2</th>\n",
       "      <td>41354</td>\n",
       "      <td>0</td>\n",
       "      <td>1</td>\n",
       "      <td>1</td>\n",
       "      <td>1</td>\n",
       "      <td>4123</td>\n",
       "      <td>4</td>\n",
       "      <td>0</td>\n",
       "      <td>0</td>\n",
       "      <td>7034</td>\n",
       "      <td>0</td>\n",
       "    </tr>\n",
       "    <tr>\n",
       "      <th>3</th>\n",
       "      <td>14776</td>\n",
       "      <td>0</td>\n",
       "      <td>1</td>\n",
       "      <td>1</td>\n",
       "      <td>1</td>\n",
       "      <td>500</td>\n",
       "      <td>1</td>\n",
       "      <td>0</td>\n",
       "      <td>0</td>\n",
       "      <td>6952</td>\n",
       "      <td>0</td>\n",
       "    </tr>\n",
       "    <tr>\n",
       "      <th>4</th>\n",
       "      <td>97752</td>\n",
       "      <td>0</td>\n",
       "      <td>4</td>\n",
       "      <td>1</td>\n",
       "      <td>1</td>\n",
       "      <td>43300</td>\n",
       "      <td>26</td>\n",
       "      <td>2077</td>\n",
       "      <td>4</td>\n",
       "      <td>6935</td>\n",
       "      <td>1</td>\n",
       "    </tr>\n",
       "  </tbody>\n",
       "</table>\n",
       "</div>"
      ],
      "text/plain": [
       "   Balance  Qual_miles  cc1_miles  cc2_miles  cc3_miles  Bonus_miles  \\\n",
       "0    28143           0          1          1          1          174   \n",
       "1    19244           0          1          1          1          215   \n",
       "2    41354           0          1          1          1         4123   \n",
       "3    14776           0          1          1          1          500   \n",
       "4    97752           0          4          1          1        43300   \n",
       "\n",
       "   Bonus_trans  Flight_miles_12mo  Flight_trans_12  Days_since_enroll  Award?  \n",
       "0            1                  0                0               7000       0  \n",
       "1            2                  0                0               6968       0  \n",
       "2            4                  0                0               7034       0  \n",
       "3            1                  0                0               6952       0  \n",
       "4           26               2077                4               6935       1  "
      ]
     },
     "execution_count": 3,
     "metadata": {},
     "output_type": "execute_result"
    }
   ],
   "source": [
    "print(df.isna().sum())   \n",
    "print(df.shape)\n",
    "\n",
    "df.head()\n"
   ]
  },
  {
   "attachments": {},
   "cell_type": "markdown",
   "metadata": {},
   "source": [
    "### non-numeric: cc1_miles,\tcc2_miles, cc3_miles, Bonus_trans, Flight_trans_12, Award"
   ]
  },
  {
   "cell_type": "code",
   "execution_count": 4,
   "metadata": {},
   "outputs": [
    {
     "data": {
      "image/png": "[encoded data removed]",
      "text/plain": [
       "<Figure size 720x432 with 1 Axes>"
      ]
     },
     "metadata": {
      "needs_background": "light"
     },
     "output_type": "display_data"
    }
   ],
   "source": [
    "import seaborn as sns\n",
    "\n",
    "plt.figure(figsize=(10,6))\n",
    "plt.title(\"Balance frq\")\n",
    "sns.axes_style(\"dark\")\n",
    "sns.violinplot(y=df[\"Balance\"])\n",
    "plt.show()\n",
    "\n",
    "## i tells that most of the person are in a range, bur some are very high"
   ]
  },
  {
   "cell_type": "code",
   "execution_count": 5,
   "metadata": {},
   "outputs": [
    {
     "data": {
      "image/png": "[encoded data removed]",
      "text/plain": [
       "<Figure size 1080x432 with 3 Axes>"
      ]
     },
     "metadata": {
      "needs_background": "light"
     },
     "output_type": "display_data"
    }
   ],
   "source": [
    "plt.figure(figsize=(15,6))\n",
    "plt.subplot(1,3,1)\n",
    "plt.title(\"Balance frq\")\n",
    "sns.boxplot(y=df[\"Balance\"], color=\"red\")\n",
    "plt.subplot(1,3,2)\n",
    "plt.title(\"Qual_miles frq\")\n",
    "sns.boxplot(y=df[\"Qual_miles\"], color = \"blue\")\n",
    "plt.subplot(1,3,3)\n",
    "plt.title(\"Days_since_enroll frq\")\n",
    "sns.boxplot(y=df[\"Days_since_enroll\"], color = \"yellow\")\n",
    "plt.show()"
   ]
  },
  {
   "cell_type": "code",
   "execution_count": 6,
   "metadata": {},
   "outputs": [
    {
     "data": {
      "text/plain": [
       "array([[28143,     0,     1, ...,     0,  7000,     0],\n",
       "       [19244,     0,     1, ...,     0,  6968,     0],\n",
       "       [41354,     0,     1, ...,     0,  7034,     0],\n",
       "       ...,\n",
       "       [73597,     0,     3, ...,     0,  1402,     1],\n",
       "       [54899,     0,     1, ...,     1,  1401,     0],\n",
       "       [ 3016,     0,     1, ...,     0,  1398,     0]], dtype=int64)"
      ]
     },
     "execution_count": 6,
     "metadata": {},
     "output_type": "execute_result"
    }
   ],
   "source": [
    "X = np.array(df.iloc[:,:11])\n",
    "y = np.array(df.iloc[:,10:11])\n",
    "X"
   ]
  },
  {
   "cell_type": "code",
   "execution_count": 7,
   "metadata": {},
   "outputs": [
    {
     "data": {
      "text/plain": [
       "array([[1.65077268e-02, 0.00000000e+00, 5.86565996e-07, ...,\n",
       "        0.00000000e+00, 4.10596197e-03, 0.00000000e+00],\n",
       "       [1.12878760e-02, 0.00000000e+00, 5.86565996e-07, ...,\n",
       "        0.00000000e+00, 4.08719186e-03, 0.00000000e+00],\n",
       "       [2.42568502e-02, 0.00000000e+00, 5.86565996e-07, ...,\n",
       "        0.00000000e+00, 4.12590522e-03, 0.00000000e+00],\n",
       "       ...,\n",
       "       [4.31694976e-02, 0.00000000e+00, 1.75969799e-06, ...,\n",
       "        0.00000000e+00, 8.22365527e-04, 5.86565996e-07],\n",
       "       [3.22018866e-02, 0.00000000e+00, 5.86565996e-07, ...,\n",
       "        5.86565996e-07, 8.21778961e-04, 0.00000000e+00],\n",
       "       [1.76908304e-03, 0.00000000e+00, 5.86565996e-07, ...,\n",
       "        0.00000000e+00, 8.20019263e-04, 0.00000000e+00]])"
      ]
     },
     "execution_count": 7,
     "metadata": {},
     "output_type": "execute_result"
    }
   ],
   "source": [
    "X  = (X-X.min())/(X.max()-X.min())\n",
    "X"
   ]
  },
  {
   "cell_type": "code",
   "execution_count": 8,
   "metadata": {},
   "outputs": [],
   "source": [
    "def ktests(n):\n",
    "    #Set number of clusters at initialisation time\n",
    "    k_means = KMeans(n_clusters=n)\n",
    "    #Run the clustering algorithm\n",
    "    model = k_means.fit(X)\n",
    "    #Generate cluster predictions and store in y_hat\n",
    "    y_hat = k_means.predict(X)\n",
    "    labels = k_means.labels_\n",
    "    score = davies_bouldin_score(X, labels)\n",
    "    print('Score with k=',n,' is ', score)"
   ]
  },
  {
   "cell_type": "code",
   "execution_count": 9,
   "metadata": {},
   "outputs": [
    {
     "name": "stdout",
     "output_type": "stream",
     "text": [
      "Score with k= 2  is  0.6322390890026532\n",
      "Score with k= 3  is  0.6301069777945213\n",
      "Score with k= 4  is  0.6208170916745357\n",
      "Score with k= 5  is  0.6597292315301997\n",
      "Score with k= 6  is  0.645032586816341\n"
     ]
    }
   ],
   "source": [
    "for a in range(2,7):\n",
    "    ktests(a)\n",
    "## the lowest is k=4 whcih is the best"
   ]
  },
  {
   "cell_type": "code",
   "execution_count": 10,
   "metadata": {},
   "outputs": [
    {
     "data": {
      "image/png": "[encoded data removed]",
      "text/plain": [
       "<Figure size 432x288 with 1 Axes>"
      ]
     },
     "metadata": {
      "needs_background": "light"
     },
     "output_type": "display_data"
    }
   ],
   "source": [
    "sum_of_squared_distances = []\n",
    "K = range(1,15)\n",
    "for k in K:\n",
    "    k_means = KMeans(n_clusters=k)\n",
    "    model = k_means.fit(X)\n",
    "    sum_of_squared_distances.append(k_means.inertia_)\n",
    "plt.plot(K, sum_of_squared_distances, 'bx-')\n",
    "plt.xlabel('K')\n",
    "plt.ylabel('Sum of squared distances')\n",
    "plt.title('elbow method for optimal K')\n",
    "plt.show()"
   ]
  },
  {
   "cell_type": "code",
   "execution_count": 11,
   "metadata": {},
   "outputs": [
    {
     "data": {
      "text/plain": [
       "array([[1.81876781e-02, 5.96101347e-05, 9.78792867e-07, 5.96168144e-07,\n",
       "        5.89488389e-07, 5.92967686e-03, 5.47238938e-06, 1.70224375e-04,\n",
       "        5.18098506e-07, 2.22048691e-03, 1.89955536e-07],\n",
       "       [1.89466594e-01, 1.97818590e-04, 1.84530492e-06, 5.96077877e-07,\n",
       "        5.86565996e-07, 2.56001561e-02, 1.09006157e-05, 7.52760752e-04,\n",
       "        2.27651019e-06, 3.24522552e-03, 3.67792733e-07],\n",
       "       [7.52968202e-02, 1.28963551e-04, 1.72611139e-06, 5.91963843e-07,\n",
       "        6.05758340e-07, 1.83398867e-02, 9.68673559e-06, 4.43149411e-04,\n",
       "        1.26669467e-06, 2.78354954e-03, 2.59696397e-07],\n",
       "       [4.94076405e-01, 3.00727874e-04, 1.96274006e-06, 5.86565996e-07,\n",
       "        6.54246688e-07, 3.39018677e-02, 1.33330963e-05, 1.08273315e-03,\n",
       "        4.08340174e-06, 3.79097603e-03, 4.96325074e-07]])"
      ]
     },
     "execution_count": 11,
     "metadata": {},
     "output_type": "execute_result"
    }
   ],
   "source": [
    "kmeans = KMeans(n_clusters=4)\n",
    "kmeans.fit(X)\n",
    "\n",
    "predict = kmeans.fit_predict(X)\n",
    "kmeans.cluster_centers_\n",
    "#centers"
   ]
  },
  {
   "cell_type": "code",
   "execution_count": 12,
   "metadata": {},
   "outputs": [
    {
     "data": {
      "text/plain": [
       "<matplotlib.collections.PathCollection at 0x278f0de9b48>"
      ]
     },
     "execution_count": 12,
     "metadata": {},
     "output_type": "execute_result"
    },
    {
     "data": {
      "image/png": "[encoded data removed]",
      "text/plain": [
       "<Figure size 432x288 with 1 Axes>"
      ]
     },
     "metadata": {
      "needs_background": "light"
     },
     "output_type": "display_data"
    }
   ],
   "source": [
    "#plot\n",
    "plt.scatter(X[predict == 0,0], X[predict == 0,1], s=50, c='red')\n",
    "plt.scatter(X[predict == 1,0], X[predict == 1,1], s=50, c='black')\n",
    "plt.scatter(X[predict == 2,0], X[predict == 2,1], s=50, c='blue')\n",
    "plt.scatter(X[predict == 3,0], X[predict == 3,1], s=50, c='yellow')"
   ]
  },
  {
   "cell_type": "code",
   "execution_count": 20,
   "metadata": {},
   "outputs": [
    {
     "data": {
      "text/html": [
       "<div>\n",
       "<style scoped>\n",
       "    .dataframe tbody tr th:only-of-type {\n",
       "        vertical-align: middle;\n",
       "    }\n",
       "\n",
       "    .dataframe tbody tr th {\n",
       "        vertical-align: top;\n",
       "    }\n",
       "\n",
       "    .dataframe thead th {\n",
       "        text-align: right;\n",
       "    }\n",
       "</style>\n",
       "<table border=\"1\" class=\"dataframe\">\n",
       "  <thead>\n",
       "    <tr style=\"text-align: right;\">\n",
       "      <th></th>\n",
       "      <th>Balance</th>\n",
       "      <th>Qual_miles</th>\n",
       "      <th>cc1_miles</th>\n",
       "      <th>cc2_miles</th>\n",
       "      <th>cc3_miles</th>\n",
       "      <th>Bonus_miles</th>\n",
       "      <th>Bonus_trans</th>\n",
       "      <th>Flight_miles_12mo</th>\n",
       "      <th>Flight_trans_12</th>\n",
       "      <th>Days_since_enroll</th>\n",
       "      <th>Award?</th>\n",
       "    </tr>\n",
       "  </thead>\n",
       "  <tbody>\n",
       "    <tr>\n",
       "      <th>0</th>\n",
       "      <td>0.016508</td>\n",
       "      <td>0.0</td>\n",
       "      <td>5.865660e-07</td>\n",
       "      <td>5.865660e-07</td>\n",
       "      <td>5.865660e-07</td>\n",
       "      <td>0.000102</td>\n",
       "      <td>5.865660e-07</td>\n",
       "      <td>0.000000</td>\n",
       "      <td>0.000000e+00</td>\n",
       "      <td>0.004106</td>\n",
       "      <td>0.000000e+00</td>\n",
       "    </tr>\n",
       "    <tr>\n",
       "      <th>1</th>\n",
       "      <td>0.011288</td>\n",
       "      <td>0.0</td>\n",
       "      <td>5.865660e-07</td>\n",
       "      <td>5.865660e-07</td>\n",
       "      <td>5.865660e-07</td>\n",
       "      <td>0.000126</td>\n",
       "      <td>1.173132e-06</td>\n",
       "      <td>0.000000</td>\n",
       "      <td>0.000000e+00</td>\n",
       "      <td>0.004087</td>\n",
       "      <td>0.000000e+00</td>\n",
       "    </tr>\n",
       "    <tr>\n",
       "      <th>2</th>\n",
       "      <td>0.024257</td>\n",
       "      <td>0.0</td>\n",
       "      <td>5.865660e-07</td>\n",
       "      <td>5.865660e-07</td>\n",
       "      <td>5.865660e-07</td>\n",
       "      <td>0.002418</td>\n",
       "      <td>2.346264e-06</td>\n",
       "      <td>0.000000</td>\n",
       "      <td>0.000000e+00</td>\n",
       "      <td>0.004126</td>\n",
       "      <td>0.000000e+00</td>\n",
       "    </tr>\n",
       "    <tr>\n",
       "      <th>3</th>\n",
       "      <td>0.008667</td>\n",
       "      <td>0.0</td>\n",
       "      <td>5.865660e-07</td>\n",
       "      <td>5.865660e-07</td>\n",
       "      <td>5.865660e-07</td>\n",
       "      <td>0.000293</td>\n",
       "      <td>5.865660e-07</td>\n",
       "      <td>0.000000</td>\n",
       "      <td>0.000000e+00</td>\n",
       "      <td>0.004078</td>\n",
       "      <td>0.000000e+00</td>\n",
       "    </tr>\n",
       "    <tr>\n",
       "      <th>4</th>\n",
       "      <td>0.057338</td>\n",
       "      <td>0.0</td>\n",
       "      <td>2.346264e-06</td>\n",
       "      <td>5.865660e-07</td>\n",
       "      <td>5.865660e-07</td>\n",
       "      <td>0.025398</td>\n",
       "      <td>1.525072e-05</td>\n",
       "      <td>0.001218</td>\n",
       "      <td>2.346264e-06</td>\n",
       "      <td>0.004068</td>\n",
       "      <td>5.865660e-07</td>\n",
       "    </tr>\n",
       "    <tr>\n",
       "      <th>...</th>\n",
       "      <td>...</td>\n",
       "      <td>...</td>\n",
       "      <td>...</td>\n",
       "      <td>...</td>\n",
       "      <td>...</td>\n",
       "      <td>...</td>\n",
       "      <td>...</td>\n",
       "      <td>...</td>\n",
       "      <td>...</td>\n",
       "      <td>...</td>\n",
       "      <td>...</td>\n",
       "    </tr>\n",
       "    <tr>\n",
       "      <th>3994</th>\n",
       "      <td>0.010837</td>\n",
       "      <td>0.0</td>\n",
       "      <td>5.865660e-07</td>\n",
       "      <td>5.865660e-07</td>\n",
       "      <td>5.865660e-07</td>\n",
       "      <td>0.005000</td>\n",
       "      <td>2.346264e-06</td>\n",
       "      <td>0.000117</td>\n",
       "      <td>5.865660e-07</td>\n",
       "      <td>0.000823</td>\n",
       "      <td>5.865660e-07</td>\n",
       "    </tr>\n",
       "    <tr>\n",
       "      <th>3995</th>\n",
       "      <td>0.037766</td>\n",
       "      <td>0.0</td>\n",
       "      <td>5.865660e-07</td>\n",
       "      <td>5.865660e-07</td>\n",
       "      <td>5.865660e-07</td>\n",
       "      <td>0.000575</td>\n",
       "      <td>2.932830e-06</td>\n",
       "      <td>0.000000</td>\n",
       "      <td>0.000000e+00</td>\n",
       "      <td>0.000818</td>\n",
       "      <td>5.865660e-07</td>\n",
       "    </tr>\n",
       "    <tr>\n",
       "      <th>3996</th>\n",
       "      <td>0.043169</td>\n",
       "      <td>0.0</td>\n",
       "      <td>1.759698e-06</td>\n",
       "      <td>5.865660e-07</td>\n",
       "      <td>5.865660e-07</td>\n",
       "      <td>0.014926</td>\n",
       "      <td>4.692528e-06</td>\n",
       "      <td>0.000000</td>\n",
       "      <td>0.000000e+00</td>\n",
       "      <td>0.000822</td>\n",
       "      <td>5.865660e-07</td>\n",
       "    </tr>\n",
       "    <tr>\n",
       "      <th>3997</th>\n",
       "      <td>0.032202</td>\n",
       "      <td>0.0</td>\n",
       "      <td>5.865660e-07</td>\n",
       "      <td>5.865660e-07</td>\n",
       "      <td>5.865660e-07</td>\n",
       "      <td>0.000293</td>\n",
       "      <td>5.865660e-07</td>\n",
       "      <td>0.000293</td>\n",
       "      <td>5.865660e-07</td>\n",
       "      <td>0.000822</td>\n",
       "      <td>0.000000e+00</td>\n",
       "    </tr>\n",
       "    <tr>\n",
       "      <th>3998</th>\n",
       "      <td>0.001769</td>\n",
       "      <td>0.0</td>\n",
       "      <td>5.865660e-07</td>\n",
       "      <td>5.865660e-07</td>\n",
       "      <td>5.865660e-07</td>\n",
       "      <td>0.000000</td>\n",
       "      <td>0.000000e+00</td>\n",
       "      <td>0.000000</td>\n",
       "      <td>0.000000e+00</td>\n",
       "      <td>0.000820</td>\n",
       "      <td>0.000000e+00</td>\n",
       "    </tr>\n",
       "  </tbody>\n",
       "</table>\n",
       "<p>3999 rows × 11 columns</p>\n",
       "</div>"
      ],
      "text/plain": [
       "       Balance  Qual_miles     cc1_miles     cc2_miles     cc3_miles  \\\n",
       "0     0.016508         0.0  5.865660e-07  5.865660e-07  5.865660e-07   \n",
       "1     0.011288         0.0  5.865660e-07  5.865660e-07  5.865660e-07   \n",
       "2     0.024257         0.0  5.865660e-07  5.865660e-07  5.865660e-07   \n",
       "3     0.008667         0.0  5.865660e-07  5.865660e-07  5.865660e-07   \n",
       "4     0.057338         0.0  2.346264e-06  5.865660e-07  5.865660e-07   \n",
       "...        ...         ...           ...           ...           ...   \n",
       "3994  0.010837         0.0  5.865660e-07  5.865660e-07  5.865660e-07   \n",
       "3995  0.037766         0.0  5.865660e-07  5.865660e-07  5.865660e-07   \n",
       "3996  0.043169         0.0  1.759698e-06  5.865660e-07  5.865660e-07   \n",
       "3997  0.032202         0.0  5.865660e-07  5.865660e-07  5.865660e-07   \n",
       "3998  0.001769         0.0  5.865660e-07  5.865660e-07  5.865660e-07   \n",
       "\n",
       "      Bonus_miles   Bonus_trans  Flight_miles_12mo  Flight_trans_12  \\\n",
       "0        0.000102  5.865660e-07           0.000000     0.000000e+00   \n",
       "1        0.000126  1.173132e-06           0.000000     0.000000e+00   \n",
       "2        0.002418  2.346264e-06           0.000000     0.000000e+00   \n",
       "3        0.000293  5.865660e-07           0.000000     0.000000e+00   \n",
       "4        0.025398  1.525072e-05           0.001218     2.346264e-06   \n",
       "...           ...           ...                ...              ...   \n",
       "3994     0.005000  2.346264e-06           0.000117     5.865660e-07   \n",
       "3995     0.000575  2.932830e-06           0.000000     0.000000e+00   \n",
       "3996     0.014926  4.692528e-06           0.000000     0.000000e+00   \n",
       "3997     0.000293  5.865660e-07           0.000293     5.865660e-07   \n",
       "3998     0.000000  0.000000e+00           0.000000     0.000000e+00   \n",
       "\n",
       "      Days_since_enroll        Award?  \n",
       "0              0.004106  0.000000e+00  \n",
       "1              0.004087  0.000000e+00  \n",
       "2              0.004126  0.000000e+00  \n",
       "3              0.004078  0.000000e+00  \n",
       "4              0.004068  5.865660e-07  \n",
       "...                 ...           ...  \n",
       "3994           0.000823  5.865660e-07  \n",
       "3995           0.000818  5.865660e-07  \n",
       "3996           0.000822  5.865660e-07  \n",
       "3997           0.000822  0.000000e+00  \n",
       "3998           0.000820  0.000000e+00  \n",
       "\n",
       "[3999 rows x 11 columns]"
      ]
     },
     "execution_count": 20,
     "metadata": {},
     "output_type": "execute_result"
    }
   ],
   "source": [
    "df2 = pd.DataFrame(data=X, columns=df.columns)\n",
    "df2"
   ]
  },
  {
   "cell_type": "code",
   "execution_count": 21,
   "metadata": {},
   "outputs": [
    {
     "data": {
      "text/html": [
       "<div>\n",
       "<style scoped>\n",
       "    .dataframe tbody tr th:only-of-type {\n",
       "        vertical-align: middle;\n",
       "    }\n",
       "\n",
       "    .dataframe tbody tr th {\n",
       "        vertical-align: top;\n",
       "    }\n",
       "\n",
       "    .dataframe thead th {\n",
       "        text-align: right;\n",
       "    }\n",
       "</style>\n",
       "<table border=\"1\" class=\"dataframe\">\n",
       "  <thead>\n",
       "    <tr style=\"text-align: right;\">\n",
       "      <th></th>\n",
       "      <th>Balance</th>\n",
       "      <th>Qual_miles</th>\n",
       "      <th>cc1_miles</th>\n",
       "      <th>cc2_miles</th>\n",
       "      <th>cc3_miles</th>\n",
       "      <th>Bonus_miles</th>\n",
       "      <th>Bonus_trans</th>\n",
       "      <th>Flight_miles_12mo</th>\n",
       "      <th>Flight_trans_12</th>\n",
       "      <th>Days_since_enroll</th>\n",
       "      <th>Award?</th>\n",
       "      <th>clusters</th>\n",
       "    </tr>\n",
       "  </thead>\n",
       "  <tbody>\n",
       "    <tr>\n",
       "      <th>0</th>\n",
       "      <td>0.016508</td>\n",
       "      <td>0.0</td>\n",
       "      <td>5.865660e-07</td>\n",
       "      <td>5.865660e-07</td>\n",
       "      <td>5.865660e-07</td>\n",
       "      <td>0.000102</td>\n",
       "      <td>5.865660e-07</td>\n",
       "      <td>0.000000</td>\n",
       "      <td>0.000000e+00</td>\n",
       "      <td>0.004106</td>\n",
       "      <td>0.000000e+00</td>\n",
       "      <td>1</td>\n",
       "    </tr>\n",
       "    <tr>\n",
       "      <th>1</th>\n",
       "      <td>0.011288</td>\n",
       "      <td>0.0</td>\n",
       "      <td>5.865660e-07</td>\n",
       "      <td>5.865660e-07</td>\n",
       "      <td>5.865660e-07</td>\n",
       "      <td>0.000126</td>\n",
       "      <td>1.173132e-06</td>\n",
       "      <td>0.000000</td>\n",
       "      <td>0.000000e+00</td>\n",
       "      <td>0.004087</td>\n",
       "      <td>0.000000e+00</td>\n",
       "      <td>1</td>\n",
       "    </tr>\n",
       "    <tr>\n",
       "      <th>2</th>\n",
       "      <td>0.024257</td>\n",
       "      <td>0.0</td>\n",
       "      <td>5.865660e-07</td>\n",
       "      <td>5.865660e-07</td>\n",
       "      <td>5.865660e-07</td>\n",
       "      <td>0.002418</td>\n",
       "      <td>2.346264e-06</td>\n",
       "      <td>0.000000</td>\n",
       "      <td>0.000000e+00</td>\n",
       "      <td>0.004126</td>\n",
       "      <td>0.000000e+00</td>\n",
       "      <td>1</td>\n",
       "    </tr>\n",
       "    <tr>\n",
       "      <th>3</th>\n",
       "      <td>0.008667</td>\n",
       "      <td>0.0</td>\n",
       "      <td>5.865660e-07</td>\n",
       "      <td>5.865660e-07</td>\n",
       "      <td>5.865660e-07</td>\n",
       "      <td>0.000293</td>\n",
       "      <td>5.865660e-07</td>\n",
       "      <td>0.000000</td>\n",
       "      <td>0.000000e+00</td>\n",
       "      <td>0.004078</td>\n",
       "      <td>0.000000e+00</td>\n",
       "      <td>1</td>\n",
       "    </tr>\n",
       "    <tr>\n",
       "      <th>4</th>\n",
       "      <td>0.057338</td>\n",
       "      <td>0.0</td>\n",
       "      <td>2.346264e-06</td>\n",
       "      <td>5.865660e-07</td>\n",
       "      <td>5.865660e-07</td>\n",
       "      <td>0.025398</td>\n",
       "      <td>1.525072e-05</td>\n",
       "      <td>0.001218</td>\n",
       "      <td>2.346264e-06</td>\n",
       "      <td>0.004068</td>\n",
       "      <td>5.865660e-07</td>\n",
       "      <td>0</td>\n",
       "    </tr>\n",
       "    <tr>\n",
       "      <th>...</th>\n",
       "      <td>...</td>\n",
       "      <td>...</td>\n",
       "      <td>...</td>\n",
       "      <td>...</td>\n",
       "      <td>...</td>\n",
       "      <td>...</td>\n",
       "      <td>...</td>\n",
       "      <td>...</td>\n",
       "      <td>...</td>\n",
       "      <td>...</td>\n",
       "      <td>...</td>\n",
       "      <td>...</td>\n",
       "    </tr>\n",
       "    <tr>\n",
       "      <th>3994</th>\n",
       "      <td>0.010837</td>\n",
       "      <td>0.0</td>\n",
       "      <td>5.865660e-07</td>\n",
       "      <td>5.865660e-07</td>\n",
       "      <td>5.865660e-07</td>\n",
       "      <td>0.005000</td>\n",
       "      <td>2.346264e-06</td>\n",
       "      <td>0.000117</td>\n",
       "      <td>5.865660e-07</td>\n",
       "      <td>0.000823</td>\n",
       "      <td>5.865660e-07</td>\n",
       "      <td>1</td>\n",
       "    </tr>\n",
       "    <tr>\n",
       "      <th>3995</th>\n",
       "      <td>0.037766</td>\n",
       "      <td>0.0</td>\n",
       "      <td>5.865660e-07</td>\n",
       "      <td>5.865660e-07</td>\n",
       "      <td>5.865660e-07</td>\n",
       "      <td>0.000575</td>\n",
       "      <td>2.932830e-06</td>\n",
       "      <td>0.000000</td>\n",
       "      <td>0.000000e+00</td>\n",
       "      <td>0.000818</td>\n",
       "      <td>5.865660e-07</td>\n",
       "      <td>1</td>\n",
       "    </tr>\n",
       "    <tr>\n",
       "      <th>3996</th>\n",
       "      <td>0.043169</td>\n",
       "      <td>0.0</td>\n",
       "      <td>1.759698e-06</td>\n",
       "      <td>5.865660e-07</td>\n",
       "      <td>5.865660e-07</td>\n",
       "      <td>0.014926</td>\n",
       "      <td>4.692528e-06</td>\n",
       "      <td>0.000000</td>\n",
       "      <td>0.000000e+00</td>\n",
       "      <td>0.000822</td>\n",
       "      <td>5.865660e-07</td>\n",
       "      <td>1</td>\n",
       "    </tr>\n",
       "    <tr>\n",
       "      <th>3997</th>\n",
       "      <td>0.032202</td>\n",
       "      <td>0.0</td>\n",
       "      <td>5.865660e-07</td>\n",
       "      <td>5.865660e-07</td>\n",
       "      <td>5.865660e-07</td>\n",
       "      <td>0.000293</td>\n",
       "      <td>5.865660e-07</td>\n",
       "      <td>0.000293</td>\n",
       "      <td>5.865660e-07</td>\n",
       "      <td>0.000822</td>\n",
       "      <td>0.000000e+00</td>\n",
       "      <td>1</td>\n",
       "    </tr>\n",
       "    <tr>\n",
       "      <th>3998</th>\n",
       "      <td>0.001769</td>\n",
       "      <td>0.0</td>\n",
       "      <td>5.865660e-07</td>\n",
       "      <td>5.865660e-07</td>\n",
       "      <td>5.865660e-07</td>\n",
       "      <td>0.000000</td>\n",
       "      <td>0.000000e+00</td>\n",
       "      <td>0.000000</td>\n",
       "      <td>0.000000e+00</td>\n",
       "      <td>0.000820</td>\n",
       "      <td>0.000000e+00</td>\n",
       "      <td>1</td>\n",
       "    </tr>\n",
       "  </tbody>\n",
       "</table>\n",
       "<p>3999 rows × 12 columns</p>\n",
       "</div>"
      ],
      "text/plain": [
       "       Balance  Qual_miles     cc1_miles     cc2_miles     cc3_miles  \\\n",
       "0     0.016508         0.0  5.865660e-07  5.865660e-07  5.865660e-07   \n",
       "1     0.011288         0.0  5.865660e-07  5.865660e-07  5.865660e-07   \n",
       "2     0.024257         0.0  5.865660e-07  5.865660e-07  5.865660e-07   \n",
       "3     0.008667         0.0  5.865660e-07  5.865660e-07  5.865660e-07   \n",
       "4     0.057338         0.0  2.346264e-06  5.865660e-07  5.865660e-07   \n",
       "...        ...         ...           ...           ...           ...   \n",
       "3994  0.010837         0.0  5.865660e-07  5.865660e-07  5.865660e-07   \n",
       "3995  0.037766         0.0  5.865660e-07  5.865660e-07  5.865660e-07   \n",
       "3996  0.043169         0.0  1.759698e-06  5.865660e-07  5.865660e-07   \n",
       "3997  0.032202         0.0  5.865660e-07  5.865660e-07  5.865660e-07   \n",
       "3998  0.001769         0.0  5.865660e-07  5.865660e-07  5.865660e-07   \n",
       "\n",
       "      Bonus_miles   Bonus_trans  Flight_miles_12mo  Flight_trans_12  \\\n",
       "0        0.000102  5.865660e-07           0.000000     0.000000e+00   \n",
       "1        0.000126  1.173132e-06           0.000000     0.000000e+00   \n",
       "2        0.002418  2.346264e-06           0.000000     0.000000e+00   \n",
       "3        0.000293  5.865660e-07           0.000000     0.000000e+00   \n",
       "4        0.025398  1.525072e-05           0.001218     2.346264e-06   \n",
       "...           ...           ...                ...              ...   \n",
       "3994     0.005000  2.346264e-06           0.000117     5.865660e-07   \n",
       "3995     0.000575  2.932830e-06           0.000000     0.000000e+00   \n",
       "3996     0.014926  4.692528e-06           0.000000     0.000000e+00   \n",
       "3997     0.000293  5.865660e-07           0.000293     5.865660e-07   \n",
       "3998     0.000000  0.000000e+00           0.000000     0.000000e+00   \n",
       "\n",
       "      Days_since_enroll        Award?  clusters  \n",
       "0              0.004106  0.000000e+00         1  \n",
       "1              0.004087  0.000000e+00         1  \n",
       "2              0.004126  0.000000e+00         1  \n",
       "3              0.004078  0.000000e+00         1  \n",
       "4              0.004068  5.865660e-07         0  \n",
       "...                 ...           ...       ...  \n",
       "3994           0.000823  5.865660e-07         1  \n",
       "3995           0.000818  5.865660e-07         1  \n",
       "3996           0.000822  5.865660e-07         1  \n",
       "3997           0.000822  0.000000e+00         1  \n",
       "3998           0.000820  0.000000e+00         1  \n",
       "\n",
       "[3999 rows x 12 columns]"
      ]
     },
     "execution_count": 21,
     "metadata": {},
     "output_type": "execute_result"
    }
   ],
   "source": [
    "#Set number of clusters at initialisation time\n",
    "k_means = KMeans(n_clusters=4)\n",
    "#Run the clustering algorithm\n",
    "model = k_means.fit(df2)\n",
    "#Generate cluster predictions and store in y_hat\n",
    "y_hat = k_means.predict(df2)\n",
    "labels = k_means.labels_\n",
    "df2['clusters'] = labels\n",
    "score = davies_bouldin_score(X, labels)\n",
    "df2"
   ]
  },
  {
   "cell_type": "code",
   "execution_count": 22,
   "metadata": {},
   "outputs": [
    {
     "name": "stderr",
     "output_type": "stream",
     "text": [
      "c:\\users\\zmtyo\\appdata\\local\\programs\\python\\python37\\lib\\site-packages\\seaborn\\regression.py:573: UserWarning: The `size` parameter has been renamed to `height`; please update your code.\n",
      "  warnings.warn(msg, UserWarning)\n"
     ]
    },
    {
     "data": {
      "image/png": "[encoded data removed]",
      "text/plain": [
       "<Figure size 479.375x432 with 1 Axes>"
      ]
     },
     "metadata": {
      "needs_background": "light"
     },
     "output_type": "display_data"
    }
   ],
   "source": [
    "# Plot between pairs Balance~Qual_miles\n",
    "sns.lmplot( 'Balance','Qual_miles',  data=df2,\n",
    "        hue = 'clusters',\n",
    "        fit_reg=False, size = 6 );"
   ]
  },
  {
   "cell_type": "code",
   "execution_count": 23,
   "metadata": {},
   "outputs": [
    {
     "data": {
      "image/png": "[encoded data removed]",
      "text/plain": [
       "<Figure size 479.375x432 with 1 Axes>"
      ]
     },
     "metadata": {
      "needs_background": "light"
     },
     "output_type": "display_data"
    }
   ],
   "source": [
    "sns.lmplot( 'Balance','Flight_miles_12mo',  data=df2,\n",
    "        hue = 'clusters',\n",
    "        fit_reg=False, size = 6 );"
   ]
  },
  {
   "cell_type": "code",
   "execution_count": 24,
   "metadata": {},
   "outputs": [
    {
     "data": {
      "image/png": "[encoded data removed]",
      "text/plain": [
       "<Figure size 479.375x432 with 1 Axes>"
      ]
     },
     "metadata": {
      "needs_background": "light"
     },
     "output_type": "display_data"
    }
   ],
   "source": [
    "# Plot between pairs Days_since_enroll~Bonus_miles\n",
    "sns.lmplot( 'Days_since_enroll','Flight_miles_12mo',  data=df2,\n",
    "        hue = 'clusters',\n",
    "        fit_reg=False, size = 6 );"
   ]
  },
  {
   "cell_type": "code",
   "execution_count": 27,
   "metadata": {},
   "outputs": [
    {
     "name": "stdout",
     "output_type": "stream",
     "text": [
      "0.13236741555502635\n",
      "0.04840811854264159\n",
      "0.33327154838172307\n",
      "1.0\n"
     ]
    }
   ],
   "source": [
    "print(df2.loc[df2['clusters'] == 0]['Balance'].max())\n",
    "print(df2.loc[df2['clusters'] == 1]['Balance'].max())\n",
    "print(df2.loc[df2['clusters'] == 3]['Balance'].max())\n",
    "print(df2.loc[df2['clusters'] == 2]['Balance'].max())"
   ]
  },
  {
   "cell_type": "markdown",
   "metadata": {},
   "source": [
    "According the polt upper and max values, the group is mainly separete by balance and the order is 0,1,3,2"
   ]
  },
  {
   "cell_type": "code",
   "execution_count": null,
   "metadata": {},
   "outputs": [],
   "source": []
  }
 ],
 "metadata": {
  "kernelspec": {
   "display_name": "Python 3",
   "language": "python",
   "name": "python3"
  },
  "language_info": {
   "codemirror_mode": {
    "name": "ipython",
    "version": 3
   },
   "file_extension": ".py",
   "mimetype": "text/x-python",
   "name": "python",
   "nbconvert_exporter": "python",
   "pygments_lexer": "ipython3",
   "version": "3.7.4"
  }
 },
 "nbformat": 4,
 "nbformat_minor": 4
}
